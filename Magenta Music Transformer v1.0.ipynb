{
 "cells": [
  {
   "cell_type": "markdown",
   "id": "4266644d",
   "metadata": {},
   "source": [
    "### Data generation / Preprocessing"
   ]
  },
  {
   "cell_type": "code",
   "execution_count": null,
   "id": "98a1cb77",
   "metadata": {},
   "outputs": [],
   "source": [
    "# sudo apt-get install build-essential libasound2-dev libjack-dev portaudio19-dev\n",
    "# sudo apt-get install libsndfile1\n",
    "!pip install magenta\n",
    "!pip install music21"
   ]
  },
  {
   "cell_type": "code",
   "execution_count": 7,
   "id": "b9cc1318",
   "metadata": {},
   "outputs": [],
   "source": [
    "import magenta\n",
    "import music21\n",
    "import glob\n",
    "import os\n",
    "import sys"
   ]
  },
  {
   "cell_type": "code",
   "execution_count": 2,
   "id": "2d1e4263",
   "metadata": {},
   "outputs": [],
   "source": [
    "data_dir = './Magenta Music Transformer v1.0 Data'"
   ]
  },
  {
   "cell_type": "code",
   "execution_count": null,
   "id": "26873a46",
   "metadata": {},
   "outputs": [],
   "source": [
    "!PROBLEM=score2perf_maestro_language_uncropped_aug\n",
    "!DATA_DIR='./Magenta Music Transformer v1.0 Data'"
   ]
  },
  {
   "cell_type": "code",
   "execution_count": null,
   "id": "917d676d",
   "metadata": {},
   "outputs": [],
   "source": [
    "for midi_file in glob.glob(data_dir + \"/*.mid\"):\n",
    "    print(midi_file)\n",
    "    try:\n",
    "        midi = music21.converter.parse(midi_file)\n",
    "        key = midi.analyze('key')\n",
    "        if(key.mode == 'major'):\n",
    "            i = music21.interval.Interval(key.tonic, music21.pitch.Pitch('C'))\n",
    "        elif(key.mode == 'minor'):\n",
    "            i = music21.interval.Interval(key.tonic, music21.pitch.Pitch('A'))\n",
    "        midi = midi.transpose(i)\n",
    "        newKey = midi.analyze('key')\n",
    "        print(\"Tranposed from: \" + str(key) + \" to \" + str(newKey))\n",
    "        midi.write('midi', fp=midi_file)\n",
    "    except Exception as e:\n",
    "        print(\"Transposing midi failed: \" + str(e))\n",
    "        continue;"
   ]
  },
  {
   "cell_type": "code",
   "execution_count": null,
   "id": "cfd8af00",
   "metadata": {},
   "outputs": [],
   "source": []
  },
  {
   "cell_type": "code",
   "execution_count": 11,
   "id": "a72349b0",
   "metadata": {},
   "outputs": [
    {
     "name": "stdout",
     "output_type": "stream",
     "text": [
      "2022-12-30 10:35:43.290982: W tensorflow/stream_executor/platform/default/dso_loader.cc:64] Could not load dynamic library 'libcudart.so.11.0'; dlerror: libcudart.so.11.0: cannot open shared object file: No such file or directory\n",
      "2022-12-30 10:35:43.291047: I tensorflow/stream_executor/cuda/cudart_stub.cc:29] Ignore above cudart dlerror if you do not have a GPU set up on your machine.\n",
      "/home/ceo/anaconda3/envs/magenta/lib/python3.7/site-packages/librosa/util/decorators.py:9: NumbaDeprecationWarning: An import was requested from a module that has moved location.\n",
      "Import requested from: 'numba.decorators', please update to use 'numba.core.decorators' or pin to Numba version 0.48.0. This alias will not be present in Numba version 0.50.0.\n",
      "  from numba.decorators import jit as optional_jit\n",
      "/home/ceo/anaconda3/envs/magenta/lib/python3.7/site-packages/librosa/util/decorators.py:9: NumbaDeprecationWarning: An import was requested from a module that has moved location.\n",
      "Import of 'jit' requested from: 'numba.decorators', please update to use 'numba.core.decorators' or pin to Numba version 0.48.0. This alias will not be present in Numba version 0.50.0.\n",
      "  from numba.decorators import jit as optional_jit\n",
      "/home/ceo/anaconda3/envs/magenta/lib/python3.7/site-packages/pydub/utils.py:170: RuntimeWarning: Couldn't find ffmpeg or avconv - defaulting to ffmpeg, but may not work\n",
      "  warn(\"Couldn't find ffmpeg or avconv - defaulting to ffmpeg, but may not work\", RuntimeWarning)\n",
      "Traceback (most recent call last):\n",
      "  File \"/home/ceo/anaconda3/envs/magenta/bin/t2t_datagen\", line 5, in <module>\n",
      "    from magenta.tensor2tensor.t2t_datagen import console_entry_point\n",
      "  File \"/home/ceo/anaconda3/envs/magenta/lib/python3.7/site-packages/magenta/tensor2tensor/t2t_datagen.py\", line 19, in <module>\n",
      "    from magenta.tensor2tensor import models  # pylint: disable=unused-import\n",
      "  File \"/home/ceo/anaconda3/envs/magenta/lib/python3.7/site-packages/magenta/tensor2tensor/models.py\", line 18, in <module>\n",
      "    from magenta.models.score2perf import score2perf_hparams\n",
      "  File \"/home/ceo/anaconda3/envs/magenta/lib/python3.7/site-packages/magenta/models/score2perf/__init__.py\", line 17, in <module>\n",
      "    from magenta.models.score2perf import score2perf\n",
      "  File \"/home/ceo/anaconda3/envs/magenta/lib/python3.7/site-packages/magenta/models/score2perf/score2perf.py\", line 30, in <module>\n",
      "    from tensor2tensor.models import transformer\n",
      "  File \"/home/ceo/anaconda3/envs/magenta/lib/python3.7/site-packages/tensor2tensor/models/__init__.py\", line 51, in <module>\n",
      "    from tensor2tensor.models.research import rl\n",
      "  File \"/home/ceo/anaconda3/envs/magenta/lib/python3.7/site-packages/tensor2tensor/models/research/rl.py\", line 27, in <module>\n",
      "    from tensor2tensor.envs import tic_tac_toe_env\n",
      "  File \"/home/ceo/anaconda3/envs/magenta/lib/python3.7/site-packages/tensor2tensor/envs/__init__.py\", line 23, in <module>\n",
      "    from tensor2tensor.envs import tic_tac_toe_env\n",
      "  File \"/home/ceo/anaconda3/envs/magenta/lib/python3.7/site-packages/tensor2tensor/envs/tic_tac_toe_env.py\", line 244, in <module>\n",
      "    register()\n",
      "  File \"/home/ceo/anaconda3/envs/magenta/lib/python3.7/site-packages/tensor2tensor/envs/tic_tac_toe_env.py\", line 240, in register\n",
      "    \"tensor2tensor.envs.tic_tac_toe_env:TicTacToeEnv\", version=\"v0\")\n",
      "  File \"/home/ceo/anaconda3/envs/magenta/lib/python3.7/site-packages/tensor2tensor/rl/gym_utils.py\", line 360, in register_gym_env\n",
      "    return env_name, gym.make(env_name)\n",
      "  File \"/home/ceo/anaconda3/envs/magenta/lib/python3.7/site-packages/gym/envs/registration.py\", line 572, in make\n",
      "    _kwargs = spec_.kwargs.copy()\n",
      "AttributeError: 'NoneType' object has no attribute 'copy'\n"
     ]
    }
   ],
   "source": [
    "!t2t_datagen --data_dir=${DATA_DIR} --problem=${PROBLEM} --alsologtostderr"
   ]
  }
 ],
 "metadata": {
  "kernelspec": {
   "display_name": "magenta-kernel",
   "language": "python",
   "name": "magenta-kernel"
  },
  "language_info": {
   "codemirror_mode": {
    "name": "ipython",
    "version": 3
   },
   "file_extension": ".py",
   "mimetype": "text/x-python",
   "name": "python",
   "nbconvert_exporter": "python",
   "pygments_lexer": "ipython3",
   "version": "3.7.15"
  }
 },
 "nbformat": 4,
 "nbformat_minor": 5
}
